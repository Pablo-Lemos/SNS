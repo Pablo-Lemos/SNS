{
 "cells": [
  {
   "cell_type": "markdown",
   "metadata": {},
   "source": [
    "Example of usage of SNS: 2D Gaussian Distribution"
   ]
  },
  {
   "cell_type": "code",
   "execution_count": 5,
   "metadata": {},
   "outputs": [],
   "source": [
    "import sns\n",
    "import numpy as np\n",
    "\n",
    "from scipy.stats import multivariate_normal\n",
    "from getdist import plots"
   ]
  },
  {
   "cell_type": "code",
   "execution_count": 6,
   "metadata": {},
   "outputs": [
    {
     "name": "stderr",
     "output_type": "stream",
     "text": [
      "/Users/Pablo/Code/SNS/sns.py:317: SettingWithCopyWarning: \n",
      "A value is trying to be set on a copy of a slice from a DataFrame\n",
      "\n",
      "See the caveats in the documentation: http://pandas.pydata.org/pandas-docs/stable/indexing.html#indexing-view-versus-copy\n",
      "  min_sample['weights'] = self.get_weight()\n"
     ]
    },
    {
     "name": "stdout",
     "output_type": "stream",
     "text": [
      "0 completed, logZ = -28.843546964080662 , epsilon = 289069324290.0607\n",
      "100 completed, logZ = -6.1288457868244794 , epsilon = 9.61274955894742\n",
      "200 completed, logZ = -4.592951244885968 , epsilon = 0.28015183572165375\n"
     ]
    },
    {
     "name": "stderr",
     "output_type": "stream",
     "text": [
      "WARNING:root:outlier fraction 0.15488215488215487 \n"
     ]
    },
    {
     "name": "stdout",
     "output_type": "stream",
     "text": [
      "---------------------------------------------\n",
      "Nested Sampling completed\n",
      "Run time = 11.320764780044556 seconds\n",
      "Acceptance rate = 0.036954087346024636\n",
      "logZ = -4.425786938359793 +/- 0.43891113243253843\n",
      "---------------------------------------------\n",
      "True logZ =  -4.605170185988091\n",
      "Removed no burn in\n"
     ]
    },
    {
     "data": {
      "image/png": "[encoded data removed]",
      "text/plain": [
       "<Figure size 288x288 with 3 Axes>"
      ]
     },
     "metadata": {
      "needs_background": "light"
     },
     "output_type": "display_data"
    }
   ],
   "source": [
    "def get_loglike(theta):\n",
    "  return multivariate_normal.logpdf(theta, mean=(0,0), cov=np.identity(2))\n",
    "\n",
    "p1 = sns.Param(\n",
    "    name = 'p1', \n",
    "    prior_type = 'Uniform', \n",
    "    prior = [-5,5], \n",
    "    label = 'p_1')\n",
    "p2 = sns.Param(\n",
    "    name = 'p2', \n",
    "    prior_type = 'Uniform', \n",
    "    prior = [-5,5], \n",
    "    label = 'p_2')\n",
    "\n",
    "params = [p1,p2]\n",
    "\n",
    "ns = sns.NestedSampler(\n",
    "    nlive = 50, \n",
    "    loglike = get_loglike, \n",
    "    params = params)\n",
    "\n",
    "ns.run()\n",
    "\n",
    "# The true logZ is the inverse of the prior volume\n",
    "print('True logZ = ', np.log(1/100.))\n",
    "\n",
    "samples = ns.convert_to_getdist()\n",
    "g = plots.get_subplot_plotter()\n",
    "g.triangle_plot(samples, filled=True)"
   ]
  },
  {
   "cell_type": "code",
   "execution_count": 8,
   "metadata": {},
   "outputs": [],
   "source": [
    "# To save the chains\n",
    "\n",
    "#path = '/chains/test'\n",
    "#samples.saveAsText(path)"
   ]
  },
  {
   "cell_type": "code",
   "execution_count": null,
   "metadata": {},
   "outputs": [],
   "source": []
  }
 ],
 "metadata": {
  "kernelspec": {
   "display_name": "Python 3",
   "language": "python",
   "name": "python3"
  },
  "language_info": {
   "codemirror_mode": {
    "name": "ipython",
    "version": 3
   },
   "file_extension": ".py",
   "mimetype": "text/x-python",
   "name": "python",
   "nbconvert_exporter": "python",
   "pygments_lexer": "ipython3",
   "version": "3.7.6"
  }
 },
 "nbformat": 4,
 "nbformat_minor": 2
}
