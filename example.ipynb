{
 "cells": [
  {
   "cell_type": "markdown",
   "metadata": {},
   "source": [
    "Example of usage of SNS: 2D Gaussian Distribution"
   ]
  },
  {
   "cell_type": "code",
   "execution_count": 1,
   "metadata": {},
   "outputs": [],
   "source": [
    "import sns\n",
    "import numpy as np\n",
    "\n",
    "from scipy.stats import multivariate_normal\n",
    "from getdist import plots"
   ]
  },
  {
   "cell_type": "code",
   "execution_count": null,
   "metadata": {},
   "outputs": [
    {
     "name": "stderr",
     "output_type": "stream",
     "text": [
      "/Users/Pablo/Code/SNS/sns/sns.py:317: SettingWithCopyWarning: \n",
      "A value is trying to be set on a copy of a slice from a DataFrame\n",
      "\n",
      "See the caveats in the documentation: https://pandas.pydata.org/pandas-docs/stable/user_guide/indexing.html#returning-a-view-versus-a-copy\n",
      "  min_sample['weights'] = self.get_weight()\n"
     ]
    },
    {
     "name": "stdout",
     "output_type": "stream",
     "text": [
      "0 completed, logZ = -22.586452093383347 , epsilon = 729551808.7212839\n",
      "100 completed, logZ = -6.787328676399744 , epsilon = 16.794839227448698\n"
     ]
    }
   ],
   "source": [
    "def get_loglike(theta):\n",
    "  return multivariate_normal.logpdf(theta, mean=(0,0), cov=np.identity(2))\n",
    "\n",
    "p1 = sns.Param(\n",
    "    name = 'p1', \n",
    "    prior_type = 'Uniform', \n",
    "    prior = [-5,5], \n",
    "    label = 'p_1')\n",
    "p2 = sns.Param(\n",
    "    name = 'p2', \n",
    "    prior_type = 'Uniform', \n",
    "    prior = [-5,5], \n",
    "    label = 'p_2')\n",
    "\n",
    "params = [p1,p2]\n",
    "\n",
    "ns = sns.NestedSampler(\n",
    "    nlive = 50, \n",
    "    loglike = get_loglike, \n",
    "    params = params)\n",
    "\n",
    "ns.run()\n",
    "\n",
    "# The true logZ is the inverse of the prior volume\n",
    "print('True logZ = ', np.log(1/100.))\n",
    "\n",
    "samples = ns.convert_to_getdist()\n",
    "g = plots.get_subplot_plotter()\n",
    "g.triangle_plot(samples, filled=True)"
   ]
  },
  {
   "cell_type": "code",
   "execution_count": null,
   "metadata": {},
   "outputs": [],
   "source": [
    "# To save the chains\n",
    "\n",
    "#path = '/chains/test'\n",
    "#samples.saveAsText(path)"
   ]
  },
  {
   "cell_type": "code",
   "execution_count": null,
   "metadata": {},
   "outputs": [],
   "source": []
  }
 ],
 "metadata": {
  "kernelspec": {
   "display_name": "Cosmo",
   "language": "python",
   "name": "cosmo"
  },
  "language_info": {
   "codemirror_mode": {
    "name": "ipython",
    "version": 3
   },
   "file_extension": ".py",
   "mimetype": "text/x-python",
   "name": "python",
   "nbconvert_exporter": "python",
   "pygments_lexer": "ipython3",
   "version": "3.7.9"
  }
 },
 "nbformat": 4,
 "nbformat_minor": 2
}
